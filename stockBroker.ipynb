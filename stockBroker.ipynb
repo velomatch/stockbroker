{
 "cells": [
  {
   "cell_type": "markdown",
   "metadata": {},
   "source": [
    "![Velomatch](resources/velomatch.png)\n",
    "\n",
    "# Stock Broker Example\n",
    "\n",
    "This notebook demonstrates how to send stock data to the Velomatch Stock Broker.\n",
    "\n"
   ]
  },
  {
   "cell_type": "code",
   "execution_count": null,
   "metadata": {},
   "outputs": [],
   "source": []
  },
  {
   "cell_type": "markdown",
   "metadata": {},
   "source": [
    "## Generating\n",
    "\n",
    "### JSON"
   ]
  },
  {
   "cell_type": "code",
   "execution_count": 7,
   "metadata": {},
   "outputs": [
    {
     "name": "stdout",
     "output_type": "stream",
     "text": [
      "{'datetime': '2021-11-24T14:40:40+0000',\n",
      " 'facility': [{'facilitycode': 'f001',\n",
      "               'forecast': {'datetime': '2021-11-26T14:40:40+0000',\n",
      "                            'forecastid': 'f1001',\n",
      "                            'stock': {'unit': [{'quantity': 3,\n",
      "                                                'sku': '324-456-789'}]}},\n",
      "               'partial': False,\n",
      "               'stock': {'unit': [{'quantity': 4,\n",
      "                                   'sku': '123-456-789'},\n",
      "                                  {'quantity': 7,\n",
      "                                   'sku': '223-456-789'},\n",
      "                                  {'quantity': 0,\n",
      "                                   'sku': '324-456-789'}]}},\n",
      "              {'facilitycode': 'f002',\n",
      "               'forecast': [{'datetime': '2021-11-28T14:40:40+0000',\n",
      "                             'forecastid': 'f1002',\n",
      "                             'stock': {'unit': [{'quantity': 2,\n",
      "                                                 'sku': '624-456-789'}]}},\n",
      "                            {'datetime': '2021-12-01T14:40:40+0000',\n",
      "                             'forecastid': 'f1003',\n",
      "                             'stock': {'unit': [{'quantity': 1,\n",
      "                                                 'sku': '423-456-789'},\n",
      "                                                {'quantity': 3,\n",
      "                                                 'sku': '524-456-789'}]}}],\n",
      "               'partial': True,\n",
      "               'stock': {'unit': [{'quantity': 3,\n",
      "                                   'sku': '423-456-789'},\n",
      "                                  {'quantity': 6,\n",
      "                                   'sku': '523-456-789'},\n",
      "                                  {'quantity': 2,\n",
      "                                   'sku': '624-456-789'}]}}],\n",
      " 'password': 'PasswordBar',\n",
      " 'username': 'DistributerFoo'}\n"
     ]
    }
   ],
   "source": [
    "json_stock_data_set = {\n",
    "    \"username\": \"DistributerFoo\",\n",
    "    \"password\": \"PasswordBar\",\n",
    "    \"datetime\": \"2021-11-24T14:40:40+0000\",\n",
    "    \"facility\": [\n",
    "        {\n",
    "            \"facilitycode\": \"f001\",\n",
    "            \"partial\": False,\n",
    "            \"stock\": { \n",
    "                \"unit\": [\n",
    "                    {\n",
    "                        \"sku\": \"123-456-789\",\n",
    "                        \"quantity\": 4,\n",
    "                    },\n",
    "                    {\n",
    "                        \"sku\": \"223-456-789\",\n",
    "                        \"quantity\": 7,\n",
    "                    },\n",
    "                    {\n",
    "                        \"sku\": \"324-456-789\",\n",
    "                        \"quantity\": 0,\n",
    "                    },\n",
    "                ]\n",
    "             },\n",
    "            \"forecast\": { \n",
    "                \"forecastid\": \"f1001\",\n",
    "                \"datetime\": \"2021-11-26T14:40:40+0000\",\n",
    "                \"stock\": { \n",
    "                    \"unit\": [\n",
    "                        {\n",
    "                            \"sku\": \"324-456-789\",\n",
    "                            \"quantity\": 3,\n",
    "                        },\n",
    "                    ]\n",
    "                },\n",
    "            }, \n",
    "        },\n",
    "        {\n",
    "            \"facilitycode\": \"f002\", \n",
    "            \"partial\": True,\n",
    "            \"stock\": { \n",
    "                \"unit\": [\n",
    "                    {\n",
    "                        \"sku\": \"423-456-789\",\n",
    "                        \"quantity\": 3,\n",
    "                    },\n",
    "                    {\n",
    "                        \"sku\": \"523-456-789\",\n",
    "                        \"quantity\": 6,\n",
    "                    },\n",
    "                    {\n",
    "                        \"sku\": \"624-456-789\",\n",
    "                        \"quantity\": 2,\n",
    "                    },\n",
    "                ]\n",
    "             },\n",
    "            \"forecast\": [ \n",
    "                { \n",
    "                    \"forecastid\": \"f1002\",\n",
    "                    \"datetime\": \"2021-11-28T14:40:40+0000\",\n",
    "                    \"stock\": { \n",
    "                        \"unit\": [\n",
    "                            {\n",
    "                                \"sku\": \"624-456-789\",\n",
    "                                \"quantity\": 2,\n",
    "                            },\n",
    "                        ]\n",
    "                    },\n",
    "                }, \n",
    "                { \n",
    "                    \"forecastid\": \"f1003\",\n",
    "                    \"datetime\": \"2021-12-01T14:40:40+0000\",\n",
    "                    \"stock\": { \n",
    "                        \"unit\": [\n",
    "                            {\n",
    "                                \"sku\": \"423-456-789\",\n",
    "                                \"quantity\": 1,\n",
    "                            },\n",
    "                            {\n",
    "                                \"sku\": \"524-456-789\",\n",
    "                                \"quantity\": 3,\n",
    "                            },\n",
    "                        ]\n",
    "                    },\n",
    "                }, \n",
    "            ]\n",
    "        }\n",
    "    ]\n",
    "}\n",
    "\n",
    "import pprint\n",
    "pp = pprint.PrettyPrinter(width=41, compact=False)\n",
    "pp.pprint(json_stock_data_set)"
   ]
  },
  {
   "cell_type": "markdown",
   "metadata": {},
   "source": [
    "### XML"
   ]
  },
  {
   "cell_type": "code",
   "execution_count": 8,
   "metadata": {},
   "outputs": [
    {
     "name": "stdout",
     "output_type": "stream",
     "text": [
      "<?xml version=\"1.0\" ?>\n",
      "<Velomatch>\n",
      "\t<StockBroker username=\"DistributerFoo\" password=\"PasswordBar\" DateTime=\"2021-11-24T14:40:40+0000\">\n",
      "\t\t<Facilities>\n",
      "\t\t\t<Facility facilityCode=\"f001\" partial=\"false\">\n",
      "\t\t\t\t<Stock>\n",
      "\t\t\t\t\t<Unit sku=\"123-456-789\" quantity=\"4\"/>\n",
      "\t\t\t\t\t<Unit sku=\"223-456-789\" quantity=\"7\"/>\n",
      "\t\t\t\t\t<Unit sku=\"323-456-789\" quantity=\"6\"/>\n",
      "\t\t\t\t</Stock>\n",
      "\t\t\t\t<Forecasts>\n",
      "\t\t\t\t\t<Forecast forecastid=\"f1001\" datetime=\"2021-11-25T14:40:40+0000\">\n",
      "\t\t\t\t\t\t<Stock>\n",
      "\t\t\t\t\t\t\t<Unit sku=\"324-456-789\" quantity=\"4\"/>\n",
      "\t\t\t\t\t\t</Stock>\n",
      "\t\t\t\t\t</Forecast>\n",
      "\t\t\t\t\t<Forecast id=\"f1002\" datetime=\"2021-11-26T14:40:40+0000\">\n",
      "\t\t\t\t\t\t<Stock>\n",
      "\t\t\t\t\t\t\t<Unit sku=\"423-456-789\" quantity=\"4\"/>\n",
      "\t\t\t\t\t\t\t<Unit sku=\"523-456-789\" quantity=\"7\"/>\n",
      "\t\t\t\t\t\t\t<Unit sku=\"623-456-789\" quantity=\"6\"/>\n",
      "\t\t\t\t\t\t</Stock>\n",
      "\t\t\t\t\t</Forecast>\n",
      "\t\t\t\t</Forecasts>\n",
      "\t\t\t</Facility>\n",
      "\t\t</Facilities>\n",
      "\t</StockBroker>\n",
      "</Velomatch>\n",
      "\n"
     ]
    }
   ],
   "source": [
    "\n",
    "xml_stock_data_set = \"<?xml version=\\\"1.0\\\" encoding=\\\"ISO-8859-1\\\" ?>\" \\\n",
    "    \"<Velomatch>\" \\\n",
    "        \"<StockBroker username=\\\"DistributerFoo\\\" password=\\\"PasswordBar\\\" DateTime=\\\"2021-11-24T14:40:40+0000\\\">\" \\\n",
    "            \"<Facilities>\" \\\n",
    "                \"<Facility facilityCode=\\\"f001\\\" partial=\\\"false\\\">\" \\\n",
    "                    \"<Stock>\" \\\n",
    "                        \"<Unit sku=\\\"123-456-789\\\" quantity=\\\"4\\\" />\" \\\n",
    "                        \"<Unit sku=\\\"223-456-789\\\" quantity=\\\"7\\\" />\" \\\n",
    "                        \"<Unit sku=\\\"323-456-789\\\" quantity=\\\"6\\\" />\" \\\n",
    "                    \"</Stock>\" \\\n",
    "                    \"<Forecasts>\" \\\n",
    "                        \"<Forecast forecastid=\\\"f1001\\\" datetime=\\\"2021-11-25T14:40:40+0000\\\">\" \\\n",
    "                            \"<Stock>\" \\\n",
    "                                \"<Unit sku=\\\"324-456-789\\\" quantity=\\\"4\\\" />\" \\\n",
    "                            \"</Stock>\" \\\n",
    "                        \"</Forecast>\" \\\n",
    "                        \"<Forecast id=\\\"f1002\\\" datetime=\\\"2021-11-26T14:40:40+0000\\\">\" \\\n",
    "                            \"<Stock>\" \\\n",
    "                                \"<Unit sku=\\\"423-456-789\\\" quantity=\\\"4\\\" />\" \\\n",
    "                                \"<Unit sku=\\\"523-456-789\\\" quantity=\\\"7\\\" />\" \\\n",
    "                                \"<Unit sku=\\\"623-456-789\\\" quantity=\\\"6\\\" />\" \\\n",
    "                            \"</Stock>\" \\\n",
    "                        \"</Forecast>\" \\\n",
    "                    \"</Forecasts>\" \\\n",
    "                \"</Facility>\" \\\n",
    "            \"</Facilities>\" \\\n",
    "        \"</StockBroker>\" \\\n",
    "    \"</Velomatch>\"\n",
    "\n",
    "import xml.dom.minidom\n",
    "dom = xml.dom.minidom.parseString(xml_stock_data_set)\n",
    "print(dom.toprettyxml())\n"
   ]
  },
  {
   "cell_type": "markdown",
   "metadata": {},
   "source": [
    "### CSV"
   ]
  },
  {
   "cell_type": "code",
   "execution_count": 12,
   "metadata": {},
   "outputs": [
    {
     "name": "stdout",
     "output_type": "stream",
     "text": [
      "username,password,datetime\n",
      "\"DistributerFoo\",\"PasswordBar\",2021-11-24T14:40:40+0000\n",
      "facilitycode,sku,quantity,datetime,quantity,datetime,quantity\n",
      "\"f001\",\"123-456-789\",4\n",
      "\"f001\",\"223-456-789\",7\n",
      "\"f001\",\"323-456-789\",6\n",
      "\"f001\",\"324-456-789\",0,2021-11-25T14:40:40+0000,4,2021-11-29T10:00:40+0000,2\n",
      "\"f001\",\"423-456-789\",0,2021-11-25T14:40:40+0000,4\n",
      "\"f001\",\"523-456-789\",0,2021-11-25T14:40:40+0000,7\n",
      "\"f001\",\"623-456-789\",0,2021-11-25T14:40:40+0000,6\n",
      "\n"
     ]
    }
   ],
   "source": [
    "csv_stock_data_set = \"username,password,datetime\\n\" \\\n",
    "    \"\\\"DistributerFoo\\\",\\\"PasswordBar\\\",2021-11-24T14:40:40+0000\\n\" \\\n",
    "    \"facilitycode,sku,quantity,datetime,quantity,datetime,quantity\\n\" \\\n",
    "    \"\\\"f001\\\",\\\"123-456-789\\\",4\\n\" \\\n",
    "    \"\\\"f001\\\",\\\"223-456-789\\\",7\\n\" \\\n",
    "    \"\\\"f001\\\",\\\"323-456-789\\\",6\\n\" \\\n",
    "    \"\\\"f001\\\",\\\"324-456-789\\\",0,2021-11-25T14:40:40+0000,4,2021-11-29T10:00:40+0000,2\\n\" \\\n",
    "    \"\\\"f001\\\",\\\"423-456-789\\\",0,2021-11-25T14:40:40+0000,4\\n\" \\\n",
    "    \"\\\"f001\\\",\\\"523-456-789\\\",0,2021-11-25T14:40:40+0000,7\\n\" \\\n",
    "    \"\\\"f001\\\",\\\"623-456-789\\\",0,2021-11-25T14:40:40+0000,6\\n\"\n",
    "\n",
    "print (csv_stock_data_set)"
   ]
  },
  {
   "cell_type": "markdown",
   "metadata": {},
   "source": [
    "\n",
    "## Sending\n",
    "\n",
    "### SFTP\n",
    "\n",
    "The example below shows sending three separate files, one for JSON, XML and CSV respectively. Note, it is only necessary to send one of these file types. "
   ]
  },
  {
   "cell_type": "code",
   "execution_count": 19,
   "metadata": {},
   "outputs": [
    {
     "name": "stdout",
     "output_type": "stream",
     "text": [
      "Requirement already satisfied: pysftp in /home/rthurbin/.local/lib/python3.8/site-packages (0.2.9)\n",
      "Requirement already satisfied: paramiko>=1.17 in /home/rthurbin/.local/lib/python3.8/site-packages (from pysftp) (2.8.1)\n",
      "Requirement already satisfied: bcrypt>=3.1.3 in /home/rthurbin/.local/lib/python3.8/site-packages (from paramiko>=1.17->pysftp) (3.2.0)\n",
      "Requirement already satisfied: cryptography>=2.5 in /usr/lib/python3/dist-packages (from paramiko>=1.17->pysftp) (2.8)\n",
      "Requirement already satisfied: pynacl>=1.0.1 in /usr/lib/python3/dist-packages (from paramiko>=1.17->pysftp) (1.3.0)\n",
      "Requirement already satisfied: cffi>=1.1 in /home/rthurbin/.local/lib/python3.8/site-packages (from bcrypt>=3.1.3->paramiko>=1.17->pysftp) (1.15.0)\n",
      "Requirement already satisfied: six>=1.4.1 in /usr/lib/python3/dist-packages (from bcrypt>=3.1.3->paramiko>=1.17->pysftp) (1.14.0)\n",
      "Requirement already satisfied: pycparser in /home/rthurbin/.local/lib/python3.8/site-packages (from cffi>=1.1->bcrypt>=3.1.3->paramiko>=1.17->pysftp) (2.21)\n"
     ]
    },
    {
     "ename": "SSHException",
     "evalue": "No hostkey for host  found.",
     "output_type": "error",
     "traceback": [
      "\u001b[0;31m---------------------------------------------------------------------------\u001b[0m",
      "\u001b[0;31mSSHException\u001b[0m                              Traceback (most recent call last)",
      "\u001b[0;32m/tmp/ipykernel_12056/4190512552.py\u001b[0m in \u001b[0;36m<module>\u001b[0;34m\u001b[0m\n\u001b[1;32m     28\u001b[0m     \u001b[0mf\u001b[0m\u001b[0;34m.\u001b[0m\u001b[0mwrite\u001b[0m\u001b[0;34m(\u001b[0m\u001b[0mcsv_stock_data_set\u001b[0m\u001b[0;34m)\u001b[0m\u001b[0;34m\u001b[0m\u001b[0;34m\u001b[0m\u001b[0m\n\u001b[1;32m     29\u001b[0m \u001b[0;34m\u001b[0m\u001b[0m\n\u001b[0;32m---> 30\u001b[0;31m \u001b[0;32mwith\u001b[0m \u001b[0mpysftp\u001b[0m\u001b[0;34m.\u001b[0m\u001b[0mConnection\u001b[0m\u001b[0;34m(\u001b[0m\u001b[0msftphostname\u001b[0m\u001b[0;34m,\u001b[0m \u001b[0musername\u001b[0m\u001b[0;34m=\u001b[0m\u001b[0msftpUsername\u001b[0m\u001b[0;34m,\u001b[0m \u001b[0mpassword\u001b[0m\u001b[0;34m=\u001b[0m\u001b[0msftpPassword\u001b[0m\u001b[0;34m)\u001b[0m \u001b[0;32mas\u001b[0m \u001b[0msftp\u001b[0m\u001b[0;34m:\u001b[0m\u001b[0;34m\u001b[0m\u001b[0;34m\u001b[0m\u001b[0m\n\u001b[0m\u001b[1;32m     31\u001b[0m \u001b[0;34m\u001b[0m\u001b[0m\n\u001b[1;32m     32\u001b[0m     \u001b[0;32mwith\u001b[0m \u001b[0msftp\u001b[0m\u001b[0;34m.\u001b[0m\u001b[0mcd\u001b[0m\u001b[0;34m(\u001b[0m\u001b[0msftpDirectory\u001b[0m\u001b[0;34m)\u001b[0m\u001b[0;34m:\u001b[0m        \u001b[0;31m# change directory\u001b[0m\u001b[0;34m\u001b[0m\u001b[0;34m\u001b[0m\u001b[0m\n",
      "\u001b[0;32m~/.local/lib/python3.8/site-packages/pysftp/__init__.py\u001b[0m in \u001b[0;36m__init__\u001b[0;34m(self, host, username, private_key, password, port, private_key_pass, ciphers, log, cnopts, default_path)\u001b[0m\n\u001b[1;32m    130\u001b[0m         \u001b[0;31m# check that we have a hostkey to verify\u001b[0m\u001b[0;34m\u001b[0m\u001b[0;34m\u001b[0m\u001b[0;34m\u001b[0m\u001b[0m\n\u001b[1;32m    131\u001b[0m         \u001b[0;32mif\u001b[0m \u001b[0mself\u001b[0m\u001b[0;34m.\u001b[0m\u001b[0m_cnopts\u001b[0m\u001b[0;34m.\u001b[0m\u001b[0mhostkeys\u001b[0m \u001b[0;32mis\u001b[0m \u001b[0;32mnot\u001b[0m \u001b[0;32mNone\u001b[0m\u001b[0;34m:\u001b[0m\u001b[0;34m\u001b[0m\u001b[0;34m\u001b[0m\u001b[0m\n\u001b[0;32m--> 132\u001b[0;31m             \u001b[0mself\u001b[0m\u001b[0;34m.\u001b[0m\u001b[0m_tconnect\u001b[0m\u001b[0;34m[\u001b[0m\u001b[0;34m'hostkey'\u001b[0m\u001b[0;34m]\u001b[0m \u001b[0;34m=\u001b[0m \u001b[0mself\u001b[0m\u001b[0;34m.\u001b[0m\u001b[0m_cnopts\u001b[0m\u001b[0;34m.\u001b[0m\u001b[0mget_hostkey\u001b[0m\u001b[0;34m(\u001b[0m\u001b[0mhost\u001b[0m\u001b[0;34m)\u001b[0m\u001b[0;34m\u001b[0m\u001b[0;34m\u001b[0m\u001b[0m\n\u001b[0m\u001b[1;32m    133\u001b[0m \u001b[0;34m\u001b[0m\u001b[0m\n\u001b[1;32m    134\u001b[0m         \u001b[0mself\u001b[0m\u001b[0;34m.\u001b[0m\u001b[0m_sftp_live\u001b[0m \u001b[0;34m=\u001b[0m \u001b[0;32mFalse\u001b[0m\u001b[0;34m\u001b[0m\u001b[0;34m\u001b[0m\u001b[0m\n",
      "\u001b[0;32m~/.local/lib/python3.8/site-packages/pysftp/__init__.py\u001b[0m in \u001b[0;36mget_hostkey\u001b[0;34m(self, host)\u001b[0m\n\u001b[1;32m     69\u001b[0m         \u001b[0mkval\u001b[0m \u001b[0;34m=\u001b[0m \u001b[0mself\u001b[0m\u001b[0;34m.\u001b[0m\u001b[0mhostkeys\u001b[0m\u001b[0;34m.\u001b[0m\u001b[0mlookup\u001b[0m\u001b[0;34m(\u001b[0m\u001b[0mhost\u001b[0m\u001b[0;34m)\u001b[0m  \u001b[0;31m# None|{keytype: PKey}\u001b[0m\u001b[0;34m\u001b[0m\u001b[0;34m\u001b[0m\u001b[0m\n\u001b[1;32m     70\u001b[0m         \u001b[0;32mif\u001b[0m \u001b[0mkval\u001b[0m \u001b[0;32mis\u001b[0m \u001b[0;32mNone\u001b[0m\u001b[0;34m:\u001b[0m\u001b[0;34m\u001b[0m\u001b[0;34m\u001b[0m\u001b[0m\n\u001b[0;32m---> 71\u001b[0;31m             \u001b[0;32mraise\u001b[0m \u001b[0mSSHException\u001b[0m\u001b[0;34m(\u001b[0m\u001b[0;34m\"No hostkey for host %s found.\"\u001b[0m \u001b[0;34m%\u001b[0m \u001b[0mhost\u001b[0m\u001b[0;34m)\u001b[0m\u001b[0;34m\u001b[0m\u001b[0;34m\u001b[0m\u001b[0m\n\u001b[0m\u001b[1;32m     72\u001b[0m         \u001b[0;31m# return the pkey from the dict\u001b[0m\u001b[0;34m\u001b[0m\u001b[0;34m\u001b[0m\u001b[0;34m\u001b[0m\u001b[0m\n\u001b[1;32m     73\u001b[0m         \u001b[0;32mreturn\u001b[0m \u001b[0mlist\u001b[0m\u001b[0;34m(\u001b[0m\u001b[0mkval\u001b[0m\u001b[0;34m.\u001b[0m\u001b[0mvalues\u001b[0m\u001b[0;34m(\u001b[0m\u001b[0;34m)\u001b[0m\u001b[0;34m)\u001b[0m\u001b[0;34m[\u001b[0m\u001b[0;36m0\u001b[0m\u001b[0;34m]\u001b[0m\u001b[0;34m\u001b[0m\u001b[0;34m\u001b[0m\u001b[0m\n",
      "\u001b[0;31mSSHException\u001b[0m: No hostkey for host  found."
     ]
    }
   ],
   "source": [
    "import sys\n",
    "!{sys.executable} -m pip install pysftp\n",
    "\n",
    "import pysftp\n",
    "import os\n",
    "import json\n",
    "\n",
    "from datetime import date\n",
    "\n",
    "today = date.today()\n",
    "\n",
    "dateTime = today.strftime(\"%Y%m%d%H%M%S\")\n",
    "\n",
    "sftphostname = \"\"\n",
    "sftpUsername = \"stockBrokerTest\"\n",
    "sftpPassword = \"T35!\"\n",
    "sftpDirectory = \"/\" + sftpUsername\n",
    "\n",
    "json_stock_file = dateTime + \"-\" + sftpUsername + \".json\"\n",
    "with open(json_stock_file, 'w') as f:\n",
    "    f.write(json.dumps(json_stock_data_set))\n",
    "\n",
    "xml_stock_file = dateTime + \"-\" + sftpUsername + \".xml\"\n",
    "with open(xml_stock_file, 'w') as f:\n",
    "    f.write(xml_stock_data_set)\n",
    "\n",
    "csv_stock_file = dateTime + \"-\" + sftpUsername + \".csv\"\n",
    "with open(csv_stock_file, 'w') as f:\n",
    "    f.write(csv_stock_data_set)\n",
    "\n",
    "with pysftp.Connection(sftphostname, username=sftpUsername, password=sftpPassword) as sftp:\n",
    "\n",
    "    with sftp.cd(sftpDirectory):        # change directory\n",
    "        sftp.put(json_stock_file)  \t# upload file on remote\n",
    "        sftp.put(xml_stock_file)  \t# upload file on remote\n",
    "        sftp.put(csv_stock_file)  \t# upload file on remote\n",
    "\n",
    "\n",
    "os.remove(json_stock_file)\n",
    "os.remove(xml_stock_file)\n",
    "os.remove(csv_stock_file)"
   ]
  },
  {
   "cell_type": "markdown",
   "metadata": {},
   "source": [
    "## About Velomatch\n",
    "\n",
    "Cycling is glorious! The buying process often isn't... We're here to change that. Unbiased, expert advice without the hard sell. Make sure your next bike fits! Visit www.velomatch.com to try it out for yourself. "
   ]
  }
 ],
 "metadata": {
  "interpreter": {
   "hash": "916dbcbb3f70747c44a77c7bcd40155683ae19c65e1c03b4aa3499c5328201f1"
  },
  "kernelspec": {
   "display_name": "Python 3.8.10 64-bit",
   "language": "python",
   "name": "python3"
  },
  "language_info": {
   "codemirror_mode": {
    "name": "ipython",
    "version": 3
   },
   "file_extension": ".py",
   "mimetype": "text/x-python",
   "name": "python",
   "nbconvert_exporter": "python",
   "pygments_lexer": "ipython3",
   "version": "3.8.10"
  },
  "orig_nbformat": 4
 },
 "nbformat": 4,
 "nbformat_minor": 2
}
